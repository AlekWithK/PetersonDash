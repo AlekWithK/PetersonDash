{
 "cells": [
  {
   "cell_type": "code",
   "execution_count": 1,
   "metadata": {},
   "outputs": [],
   "source": [
    "import pandas as pd\n",
    "import plotly.express as px\n",
    "import numpy as np"
   ]
  },
  {
   "cell_type": "code",
   "execution_count": 2,
   "metadata": {},
   "outputs": [
    {
     "name": "stdout",
     "output_type": "stream",
     "text": [
      "['11290520.001', '11290604.001', '11290633.001', '11291104.001', '11300658.001', '1130739.001', '1130745.001', '1130853.001', '1130859.001', '1130903.001', '1130906.001', '1131444.001', '1190603.001', '1241000.001', '1241349.001', '5020955.001', '5020507.001', '5020511.001', '5020619.001', '5020704.001', '2130734.001', '2150810.001', '2150928.001', '2150934.001', '02150934.001', '02151346.001', '02220826.001', '02220848.001', '02280813.001', '02281042.001', '02281432.001', '03160604.001', '03160645.001', '03160831.001', '03161252.001', '03230717.001', '03231216.001', '03300711.001', '03300928.001', '04040505.001', '04040628.001', '04041047.001', '04180755.001', '04180944.001', '95APR18.001', '04180950.001', '04180954.001', '04181036.001', '04181058.001', '04190957.001', '04240807.001', '04240930.001', '04241326.001', '04050621.001', '05160904.001', '06130520.001', '06130628.001', '06131024.001', '02070617.001', '02070958.001', '02071339.001', '02071340.001', '02071344.001', '04070708.001', '04070822.001', '4070822.001', '4071324.001', '7180620.001', '7181017.001', '7181041.001', '7181641.001', '8160523.001', '8160949.001', '5090838.001', '5090957.001', '5091346.001', '9210642.001', '9220801.001', '10230607.001', '10230720.001', '10240841.001', '10250915.001', '2010925.001', '3011029.001', '5010613.001', '5011018.001', '1160712.001', '1160840.001', '2130832.001', '2210916.001', '4030619.001', '3140816.001', '3141206.001', '3260903.001', '4180932.001', '4230827.001', '2060527.001', '2060615.001', '3060624.001', '7170511.001', '7171005.001', '8130625.001', '10160633.001', '11130635.001', '6120611.001', '12170614.001', '4010614.001', '1130803.001', '1280617.001', '1291355.001', '2140826.001', '2191026.001', '2260624.001', '3170823.001', '4220625.001', '4300922.001', '8050623.001', '8051151.001', '11050523.001', '5140613.001', '3060827.001', '11060608.001', '10070556.001', '7150618.001', '8260712.001', '9090522.001', '9091029.001', '12090705.001', '4100905.001', '6100552.001', '3111038.001', '9010520.001', '9010524.001', '9010613.001', '1200842.001', '4020952.001', '6020919.001', '2180511.001', '2180734.001', '2181216.001', '2191307.001', '2260955.001', '3171011.001', '3171030.001', '3271113.001', '3271532.001', '4140628.001', '4210839.001', '4281018.001', '3050822.001', '3051220.001', '5050817.001', '5140952.001', '5141006.001', '5190609.001', '1060553.001', '6170602.001', '7210611.001', '7210750.001', '7210755.001', '7210802.001', '7211113.001', '12080623.001', '4090736.001', '4090933.001', '11100617.001', '10151005.001', '10150732.001', '10150918.001', '10150951.001', '10152100.001', '2110932.001', '8110623.001', '3120922.001', '1210611.001', '2230857.001', '3240732.001', '4130518.001', '4140652.001', '4060925.001', '5070606.001', '5070700.001', '6070809.001', '6071000.001', '6071217.001', '8170747.001', '8170947.001', '8170950.001', '8171011.001', '8171034.001', '8171221.001', '8171306.001', '8182027.001', '3090611.001', '2100531.001', '02100531.001', '11100602.001', '10190733.001', '11110914.001', '12160810.001', '03290742.001', '03290809.001', '03291311.001', '03291341.001', '04040717.001', '04040750.001', '04040756.001', '04060804.001', '04060930.001', 'test165.txt', '00166.txt', '00167.txt', '02290721.001', '00193.txt', '00195a.txt', '02080756.001', '00221b.txt', '00223.txt', '03020914.001', '00249dat.txt', '00251dat.txt', '02100733.001', '00284.txt', '00286.txt', '01040657.001', '00312dat.txt', '00314dat.txt', '01050741.001', '00347dat.txt', '00349dat.txt', '01037bdat.txt', '01039cdat.txt', '01046dat.txt', '01057dat.txt', '01059dat.txt', '01066adat.txt', '01075dat.txt', '01086dat.txt', '01088dat.txt', '01093dat.txt', '01100dat.txt', '01106dat.txt', '01114dat.txt', '01116dat.txt', '01144dat.txt', '01170dat.txt', '01172bdat.txt', '01200dat.txt', '01254dat.txt', '01256dat.txt', '01289dat.txt', '01291bdat.txt', '01331dat.txt', '01333dat.txt', '01352dat.txt', '01354dat.txt', '02022dat.txt', '02024dat.txt', '02071bdat.txt', '02078bdat.txt', '02106dat.txt', '02112dat.txt', '02116dat.txt', '02127dat.txt', '02133dat.txt', '02155bdat.txt', '02197bdat.txt', '02232dat.txt', '02317adat.txt', '02344dat.txt', '03007dat.txt', '03041dat.txt', '03050dat.txt', '03055dat.txt', '03063dat.txt', '03071dat.txt', '03077adat.txt', '03086dat.txt', '03098dat.txt', '03107dat.txt', '03113dat.txt', '03121dat.txt', '03140dat.txt', '03168dat.txt', '03196dat.txt', '03224dat.txt', '03239dat.txt', '03252dat.txt', '03288dat.txt', '03322dat.txt', '03350dat.txt', '04013dat.txt', '04058dat.txt', '04069dat.txt', '04084dat.txt', '04090dat.txt', '04105dat.txt', '04111dat.txt', '04117dat.txt', '04139dat.txt', '04174dat.txt', '04209dat.txt', '04237dat.txt', '04252dat.txt', '04308dat.txt', '04349dat.txt', '05011dat.txt', '06010dat.txt', '06045dat.txt', '06052dat.txt', '06074dat.txt', '06080dat.txt', '06095dat.txt', '06101dat.txt', '06111dat.txt', '06116dat.txt', '06129dat.txt', '06192dat.txt', '06214dat.txt', '06227dat.txt', '06243dat.txt', '06255dat.txt', '06284dat.txt', '06290dat.txt', '06318dat.txt', '06346dat.txt', '07009dat.txt', '07037dat.txt', '07040dat.txt', '07065dat.txt', '07071dat.txt', '07087adat.txt', '07093dat.txt', '07100dat.txt', '07113dat.txt', '07254dat.txt', '07292dat.txt', '07296dat.txt', '07318dat.txt', '08010dat.txt', '08043dat.txt', '08060dat.txt', '08071dat.txt', '08091dat.txt', '08105dat.txt', '08119dat.txt', '08127dat.txt', '08150dat.txt', '08169dat.txt', '08192dat.txt', '08197dat.txt', '08225dat.txt', '08232dat.txt', '08253dat.txt', '08260dat.txt', '08289dat.txt', '08310dat.txt', '08323dat.txt', '08351dat.txt', '09013dat.txt', '09041dat.txt', '09048dat.txt', '09064dat.txt', '09071dat.txt', '09097dat.txt', '09106dat.txt', '09125dat.txt', '09139dat.txt', '09140dat.txt', '09174dat.txt', '09196dat.txt', '09202dat.txt', '09225dat.txt', '09239dat.txt', '09265dat.txt', '09302dat.txt', '09322dat.txt', '09337dat.txt', '10005dat.txt', '10026dat.txt', '10040dat.txt', '10068dat.txt', '10083dat.txt', '10089dat.txt', '10103dat.txt', '10113dat.txt', '10127dat.txt', '10158dat.txt', '10166dat.txt', '10187dat.txt', '10194dat.txt', '10215dat.txt', '10229dat.txt', '10244dat.txt', '10257dat.txt', '10274dat.txt', '10299dat.txt', '10319dat.txt', '10350dat.txt', '11040dat.txt', '11088dat.txt', '11098dat.txt', '11102dat.txt', '11109dat.txt', '11118dat.txt', '11131dat.txt', '11165dat.txt', '11175dat.txt', '19317dat.txt', '11193dat.txt', '11203dat.txt', '11228dat.txt', '11235dat.txt', '11279dat.txt', '11291dat.txt', '11308dat.txt', '11319dat.txt', '12010dat.txt', '12031dat.txt', '12038dat.txt', '12061dat.txt', '12080dat.txt', '12090dat.txt', '12102dat.txt', '12111dat.txt', '12118dat.txt', '12136dat.txt', '12144dat.txt', '12164dat.txt', '12171dat.txt', '12193dat.csv', '12199dat.txt', '12220dat.txt', '12251dat.txt', '12255dat.txt', '12277dat.txt', '12284dat.txt', '12311dat.txt', '12339dat.txt', '13015dat.txt', '13057dat.txt', '13071dat.txt', '13078dat.txt', '13085dat.txt', '13108dat.txt', '13113dat.txt', '13137dat.txt', '13196dat.txt', '13204dat.txt', '13240dat.txt', '13269dat.txt', '13297dat.txt', '13298dat.txt', '13323dat.txt', '13329dat.txt', '13337dat.txt', '14014dat.txt', '14024dat.txt', '14031dat.txt', '14042dat.txt', '14055dat.txt', '14084dat.txt', '14098dat.txt', '14105dat.txt', '14113dat.txt', '14127dat.txt', '14133dat.txt', '14157dat.txt', '14161dat.txt', '14189dat.txt', '14189adat.txt', '14196dat.txt', '14216dat.txt', '14224dat.txt', '14246dat.txt', '14259dat.txt', '14288dat.txt', '14307dat.txt', '14322dat.txt', '14344dat.txt', '22jan2015_moped.xlsx', '12feb2015_moped.xlsx', '18feb2015_moped.xlsx', '13march2015_moped.xlsx', '17march2015_moped.xlsx', '27march2015_moped.xlsx', '13april2015_moped.xlsx', '21april2015_moped.xlsx', '27april2015_moped.xlsx', '19may2015_moped.xlsx', '27may2015_moped.xlsx', '16292dat.txt', '16313dat.txt', '16348dat.txt', '17011dat.txt', '17023dat.txt', '17039dat.txt', '17048dat.txt', '17066dat.txt', '17080dat.txt', '17094dat.txt', '17108dat.txt', '17117dat.txt', '17137dat.txt', '17157dat.txt', '17173dat.txt', '17206dat.txt', '17212dat.txt', '17234dat.txt', '17242dat.txt', '17262dat.txt', '17271dat.txt', '17291dat.txt', '17300dat.txt', '17318dat.txt', '17340dat.txt', '18010dat.txt', '18038dat.txt', '18039dat.txt', '18054dat.txt', '18068dat.txt', '18074dat.txt', '18085dat.txt', '18099dat.txt', '18108dat.txt', '18127dat.txt', '18137dat.txt', '18157dat.txt', '18162dat.txt', '18193dat.txt', '18201dat.txt', '18215dat.txt', '18226dat.txt', '18261dat.txt', '18262dat.txt', '18290dat.txt', '18299dat.txt', '18319dat.txt', '18339dat.txt', '18348dat.txt', '19030dat.txt', '19073dat.txt', '19079dat.txt', '19087dat.txt', '19108dat.txt', '19115dat.txt', '19134dat.txt', '19155dat.txt', '19176dat.txt', '19182dat.txt', '19213dat.txt', '19234dat.txt', '19261dat.txt', '19296dat.txt', '19339dat.txt', '19353dat.txt', '20013dat.txt', '20034dat.txt', '20063dat.txt', '20195dat.txt', '20224dat.txt', '20254dat.txt', '20283dat.txt', '20324dat.txt', '20352dat.txt', '21050dat.txt', '21056dat.txt', '21081dat.txt', '21110dat.txt', '21138dat.txt', '21147dat.txt', '21168dat.txt', '21182dat.txt', '21207dat.txt', '21211dat.txt', '21229dat.txt', '21243dat.txt', '21272dat.txt', '21300dat.txt', '21308dat.txt', '21340dat.txt', '22025dat.txt', '22039dat.txt', '22084dat.txt', '22101dat.txt', '22109dat.txt', '22115dat.txt', '22129dat.txt', '22145dat.txt', '22166dat.txt', '22188dat.txt', '22201dat.txt', '22222dat.txt', '22231dat.txt', '22243dat.txt', '22262dat.txt', '22291dat.txt', '22300dat.txt', '22319dat.txt', '23023dat.txt', '23046dat.txt', '23060dat.txt', '23074dat.txt', '23088dat.txt', '23109dat.txt', '23109adat.txt', '23117dat.txt']\n"
     ]
    }
   ],
   "source": [
    "df = pd.read_parquet('src/assets/data/PETERSON_FINAL.parquet')\n",
    "df.datetime = pd.to_datetime(df.datetime)\n",
    "\n",
    "transectDates = df.groupby('file')['datetime'].min().dt.date.to_list()\n",
    "transectFiles = df.file.unique().tolist()\n",
    "print(transectFiles)"
   ]
  },
  {
   "cell_type": "code",
   "execution_count": null,
   "metadata": {},
   "outputs": [],
   "source": [
    "df = pd.read_parquet('src/assets/data/stationlocations.parquet')\n",
    "fig = px.scatter_geo(df, lat='lat', lon='lon', hover_name=df.Station_Number, \n",
    "                    color_discrete_sequence=['red'], symbol_sequence=['star-diamond'])\n",
    "\n",
    "fig.show()"
   ]
  },
  {
   "cell_type": "code",
   "execution_count": 74,
   "metadata": {},
   "outputs": [
    {
     "name": "stdout",
     "output_type": "stream",
     "text": [
      "    Parameter    Count         Min         Max         50%\n",
      "0    Datetime  2492229  1994-11-29  2023-04-27  2008-10-15\n",
      "1       Chlor  2492225       -0.02      2507.0        5.16\n",
      "2    Salinity  2479852         0.0       39.99      19.011\n",
      "3   Turbidity  2492225       -0.87      286.57        6.47\n",
      "4       Depth  2413583         0.0        50.0        11.7\n",
      "5  Water_Temp  1495239        6.29       39.96       15.97\n",
      "39.96\n"
     ]
    }
   ],
   "source": [
    "# min/max/median/count\n",
    "dfmd = df.copy()\n",
    "keepcol = ['datetime', 'chlor', 'salinity', 'turbidity', 'depth', 'water_temp']\n",
    "dfmd = dfmd[keepcol]\n",
    "dfmd = dfmd.describe().transpose()[['count', 'min', 'max', '50%']].reset_index(names='Parameter')\n",
    "dfmd.columns = [col.title() for col in dfmd.columns]\n",
    "dfmd['Parameter'] = dfmd['Parameter'].replace('_', ' ').str.title()\n",
    "dfmd = dfmd.round({\n",
    "    'Min': 3,\n",
    "    'Max': 3,\n",
    "    '50%': 3\n",
    "})\n",
    "dfmd.Count = dfmd.Count.astype(int)\n",
    "dfmd.at[0, 'Min'] = dfmd.at[0, 'Min'].date()\n",
    "dfmd.at[0, 'Max'] = dfmd.at[0, 'Max'].date()\n",
    "dfmd.at[0, '50%'] = dfmd.at[0, '50%'].date()\n",
    "\n",
    "print(dfmd)\n",
    "\n",
    "print(round(df.water_temp.max(), 3))"
   ]
  },
  {
   "cell_type": "code",
   "execution_count": 7,
   "metadata": {},
   "outputs": [
    {
     "name": "stdout",
     "output_type": "stream",
     "text": [
      "1\n",
      "2\n",
      "3\n",
      "4\n",
      "5\n",
      "6\n"
     ]
    }
   ],
   "source": [
    "a = [1, 2, 3, 4, 5, 6]\n",
    "a = np.array(a).reshape(2, 3)\n",
    "\n",
    "for i in range(1, 2 + 1):\n",
    "    for j in range(1, 3 + 1):\n",
    "        print(a[i - 1][j - 1])"
   ]
  },
  {
   "cell_type": "code",
   "execution_count": null,
   "metadata": {},
   "outputs": [],
   "source": [
    "'''html.Div(className='div-body', children=[\n",
    "    dbc.Navbar(children=[\n",
    "        dbc.Container([\n",
    "                html.A(\n",
    "                    # Use row and col to control vertical alignment of logo / brand\n",
    "                    dbc.Row([\n",
    "                            dbc.Col(children=html.Img(src=BRAND_LOGO, className=\"navbar-img\"), className='nav-img-col'),\n",
    "                            dbc.Col(children=dbc.NavbarBrand(headerTitle, className=\"navbar-title\"), className='nav-title-col'),\n",
    "                            dbc.Col(children=html.A(href=PETERSON_HREF, children=html.H6(\"ABOUT\", className='nav-about')), className='nav-about-col'),\n",
    "                        ],\n",
    "                        align=\"center\",\n",
    "                        justify='right',\n",
    "                        className=\"navbar-row\",\n",
    "                    ),\n",
    "                    href=CAWSC_HREF,\n",
    "                    style={\"textDecoration\": \"none\"},\n",
    "                ),\n",
    "            ],\n",
    "        className='navbar-container'),\n",
    "    ],\n",
    "        #html.Img(src=RV_PETERSON, className=\"navbar-peterson\")],\n",
    "    color=\"#00264C\",\n",
    "    dark=True,\n",
    "    className=\"navbar drop-shadow\"\n",
    "    ),'''"
   ]
  }
 ],
 "metadata": {
  "kernelspec": {
   "display_name": "PetersonFlowThrough",
   "language": "python",
   "name": "python3"
  },
  "language_info": {
   "codemirror_mode": {
    "name": "ipython",
    "version": 3
   },
   "file_extension": ".py",
   "mimetype": "text/x-python",
   "name": "python",
   "nbconvert_exporter": "python",
   "pygments_lexer": "ipython3",
   "version": "3.9.19"
  }
 },
 "nbformat": 4,
 "nbformat_minor": 2
}
